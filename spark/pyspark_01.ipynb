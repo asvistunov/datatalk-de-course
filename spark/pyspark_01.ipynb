{
 "cells": [
  {
   "cell_type": "code",
   "execution_count": 30,
   "id": "3d0b951c-e57c-4add-827b-e856332323a0",
   "metadata": {},
   "outputs": [],
   "source": [
    "import pyspark \n",
    "from pyspark.sql import SparkSession\n",
    "from pyspark.sql import types\n",
    "import pandas as pd "
   ]
  },
  {
   "cell_type": "code",
   "execution_count": 2,
   "id": "b8898748-7821-4698-a6b5-dbb60e46353a",
   "metadata": {},
   "outputs": [
    {
     "name": "stderr",
     "output_type": "stream",
     "text": [
      "WARNING: An illegal reflective access operation has occurred\n",
      "WARNING: Illegal reflective access by org.apache.spark.unsafe.Platform (file:/usr/local/Cellar/apache-spark/3.2.1/libexec/jars/spark-unsafe_2.12-3.2.1.jar) to constructor java.nio.DirectByteBuffer(long,int)\n",
      "WARNING: Please consider reporting this to the maintainers of org.apache.spark.unsafe.Platform\n",
      "WARNING: Use --illegal-access=warn to enable warnings of further illegal reflective access operations\n",
      "WARNING: All illegal access operations will be denied in a future release\n",
      "Using Spark's default log4j profile: org/apache/spark/log4j-defaults.properties\n",
      "Setting default log level to \"WARN\".\n",
      "To adjust logging level use sc.setLogLevel(newLevel). For SparkR, use setLogLevel(newLevel).\n",
      "22/03/01 17:45:46 WARN NativeCodeLoader: Unable to load native-hadoop library for your platform... using builtin-java classes where applicable\n"
     ]
    }
   ],
   "source": [
    "\n",
    "spark = SparkSession.builder \\\n",
    "    .master(\"local[*]\") \\\n",
    "    .appName('test') \\\n",
    "    .getOrCreate()"
   ]
  },
  {
   "cell_type": "code",
   "execution_count": null,
   "id": "8c02bb27-3ded-4b5b-b26c-8a67ee52ed21",
   "metadata": {},
   "outputs": [],
   "source": [
    "!wget https://nyc-tlc.s3.amazonaws.com/trip+data/fhvhv_tripdata_2021-01.csv"
   ]
  },
  {
   "cell_type": "code",
   "execution_count": null,
   "id": "98a4417d-5ea7-4d38-b40a-3d7880467479",
   "metadata": {},
   "outputs": [],
   "source": [
    "df = \\\n",
    "(\n",
    "spark.read\n",
    "    .option('header', 'true')\n",
    "    .csv('fhvhv_tripdata_2021-01.csv')\n",
    ")"
   ]
  },
  {
   "cell_type": "code",
   "execution_count": null,
   "id": "9aa40863-97f6-475c-8286-e9c87d9e9248",
   "metadata": {},
   "outputs": [],
   "source": [
    "df.head(2)"
   ]
  },
  {
   "cell_type": "code",
   "execution_count": null,
   "id": "261d2fd8-7064-4e6b-aae2-bf313d99cb96",
   "metadata": {},
   "outputs": [],
   "source": [
    "df.schema"
   ]
  },
  {
   "cell_type": "code",
   "execution_count": null,
   "id": "8429b909-b8f8-4a74-8bf5-dbeaca79224b",
   "metadata": {},
   "outputs": [],
   "source": [
    "!head -n 101 fhvhv_tripdata_2021-01.csv > head.csv"
   ]
  },
  {
   "cell_type": "code",
   "execution_count": null,
   "id": "f58c0abe-eb8f-4534-8e96-ee5d365246dd",
   "metadata": {},
   "outputs": [],
   "source": [
    "!wc -l head.csv"
   ]
  },
  {
   "cell_type": "code",
   "execution_count": null,
   "id": "86597a1e-bc43-4bd9-b30b-bf385d4db56b",
   "metadata": {},
   "outputs": [],
   "source": [
    "df_pandas = pd.read_csv('head.csv')"
   ]
  },
  {
   "cell_type": "code",
   "execution_count": null,
   "id": "827aae65-71ac-4f16-9a8d-dfc8b7f390b6",
   "metadata": {},
   "outputs": [],
   "source": [
    "df_pandas.dtypes"
   ]
  },
  {
   "cell_type": "code",
   "execution_count": null,
   "id": "0beb8201-50ff-4697-bd36-f07df0cac1dd",
   "metadata": {},
   "outputs": [],
   "source": [
    "spark.createDataFrame(df_pandas).schema"
   ]
  },
  {
   "cell_type": "code",
   "execution_count": null,
   "id": "bb04758b-2482-4bed-9d88-479cbb36ba25",
   "metadata": {},
   "outputs": [],
   "source": [
    "schema = types.StructType(\n",
    "[\n",
    "types.StructField('hvfhs_license_num', types.StringType(),True),\n",
    "types.StructField('dispatching_base_num', types.StringType(),True),\n",
    "types.StructField('pickup_datetime', types.TimestampType(),True),\n",
    "types.StructField('dropoff_datetime', types.TimestampType(),True),\n",
    "types.StructField('PULocationID', types.IntegerType(),True),\n",
    "types.StructField('DOLocationID', types.IntegerType(),True),\n",
    "types.StructField('SR_Flag', types.StringType(),True)\n",
    "]\n",
    ")"
   ]
  },
  {
   "cell_type": "code",
   "execution_count": null,
   "id": "a021f289-76d5-423c-9aae-b2a4c2fd4093",
   "metadata": {},
   "outputs": [],
   "source": [
    "df = \\\n",
    "(\n",
    "spark.read\n",
    "    .option('header', 'true')\n",
    "    .schema(schema)\n",
    "    .csv('fhvhv_tripdata_2021-01.csv')\n",
    ")"
   ]
  },
  {
   "cell_type": "code",
   "execution_count": null,
   "id": "c0880af5-e2c4-467b-b3ee-ec5ef2089f21",
   "metadata": {},
   "outputs": [],
   "source": [
    "df.head(10)"
   ]
  },
  {
   "cell_type": "code",
   "execution_count": null,
   "id": "1561e316-15aa-488c-a942-bd66c2eccf13",
   "metadata": {},
   "outputs": [],
   "source": [
    "df = df.repartition(24)"
   ]
  },
  {
   "cell_type": "code",
   "execution_count": null,
   "id": "bd160552-7821-4872-89ec-67c066ebffc8",
   "metadata": {},
   "outputs": [],
   "source": [
    "df.write.parquet('fhvhv/2021/01/')"
   ]
  },
  {
   "cell_type": "code",
   "execution_count": 3,
   "id": "4bc98d7c-b99c-4c5c-9793-8e8144c3985c",
   "metadata": {},
   "outputs": [
    {
     "name": "stderr",
     "output_type": "stream",
     "text": [
      "                                                                                \r"
     ]
    }
   ],
   "source": [
    "df = spark.read.parquet('fhvhv/2021/01/')"
   ]
  },
  {
   "cell_type": "code",
   "execution_count": 5,
   "id": "346d2f8e-7d0b-4bac-a821-eb7d19d5cc1e",
   "metadata": {},
   "outputs": [
    {
     "name": "stderr",
     "output_type": "stream",
     "text": [
      "                                                                                \r"
     ]
    },
    {
     "data": {
      "text/plain": [
       "[Row(hvfhs_license_num='HV0005', dispatching_base_num='B02510', pickup_datetime=datetime.datetime(2021, 1, 4, 8, 24, 29), dropoff_datetime=datetime.datetime(2021, 1, 4, 8, 51, 40), PULocationID=67, DOLocationID=249, SR_Flag=None),\n",
       " Row(hvfhs_license_num='HV0005', dispatching_base_num='B02510', pickup_datetime=datetime.datetime(2021, 1, 1, 18, 40, 45), dropoff_datetime=datetime.datetime(2021, 1, 1, 18, 46, 24), PULocationID=161, DOLocationID=162, SR_Flag=None),\n",
       " Row(hvfhs_license_num='HV0003', dispatching_base_num='B02884', pickup_datetime=datetime.datetime(2021, 1, 1, 2, 19, 41), dropoff_datetime=datetime.datetime(2021, 1, 1, 2, 35, 19), PULocationID=18, DOLocationID=167, SR_Flag=None)]"
      ]
     },
     "execution_count": 5,
     "metadata": {},
     "output_type": "execute_result"
    }
   ],
   "source": [
    "df.head(3)"
   ]
  },
  {
   "cell_type": "code",
   "execution_count": 6,
   "id": "518b10f8-3769-4c68-b988-d20bd54d1b3e",
   "metadata": {},
   "outputs": [
    {
     "name": "stdout",
     "output_type": "stream",
     "text": [
      "+-----------------+--------------------+-------------------+-------------------+------------+------------+-------+\n",
      "|hvfhs_license_num|dispatching_base_num|    pickup_datetime|   dropoff_datetime|PULocationID|DOLocationID|SR_Flag|\n",
      "+-----------------+--------------------+-------------------+-------------------+------------+------------+-------+\n",
      "|           HV0005|              B02510|2021-01-04 08:24:29|2021-01-04 08:51:40|          67|         249|   null|\n",
      "|           HV0005|              B02510|2021-01-01 18:40:45|2021-01-01 18:46:24|         161|         162|   null|\n",
      "|           HV0003|              B02884|2021-01-01 02:19:41|2021-01-01 02:35:19|          18|         167|   null|\n",
      "|           HV0003|              B02871|2021-01-02 12:44:13|2021-01-02 12:50:02|         216|         216|   null|\n",
      "|           HV0003|              B02869|2021-01-01 09:21:19|2021-01-01 09:36:24|          90|          66|   null|\n",
      "|           HV0003|              B02866|2021-01-03 15:26:26|2021-01-03 15:48:35|          89|         225|   null|\n",
      "|           HV0003|              B02764|2021-01-05 10:35:42|2021-01-05 10:52:52|          39|         210|   null|\n",
      "|           HV0003|              B02764|2021-01-03 16:11:00|2021-01-03 16:16:09|         162|         237|   null|\n",
      "|           HV0003|              B02872|2021-01-01 06:02:40|2021-01-01 06:11:43|         260|         129|   null|\n",
      "|           HV0005|              B02510|2021-01-01 23:16:46|2021-01-01 23:27:41|         151|          74|   null|\n",
      "|           HV0003|              B02872|2021-01-01 16:09:29|2021-01-01 16:22:04|         243|          41|   null|\n",
      "|           HV0003|              B02884|2021-01-01 05:02:43|2021-01-01 05:08:19|         119|          42|   null|\n",
      "|           HV0005|              B02510|2021-01-01 21:52:32|2021-01-01 21:58:57|         223|         179|   null|\n",
      "|           HV0005|              B02510|2021-01-04 15:28:48|2021-01-04 15:34:30|         129|         173|   null|\n",
      "|           HV0003|              B02764|2021-01-03 18:13:11|2021-01-03 18:23:40|          79|         140|   null|\n",
      "|           HV0005|              B02510|2021-01-02 12:11:20|2021-01-02 12:24:28|          77|         225|   null|\n",
      "|           HV0005|              B02510|2021-01-04 14:18:47|2021-01-04 14:39:50|          19|         138|   null|\n",
      "|           HV0003|              B02869|2021-01-04 16:38:50|2021-01-04 17:05:48|          92|         185|   null|\n",
      "|           HV0003|              B02617|2021-01-01 15:43:50|2021-01-01 16:42:35|          91|         265|   null|\n",
      "|           HV0003|              B02764|2021-01-03 15:31:42|2021-01-03 15:38:23|         136|         241|   null|\n",
      "+-----------------+--------------------+-------------------+-------------------+------------+------------+-------+\n",
      "only showing top 20 rows\n",
      "\n"
     ]
    }
   ],
   "source": [
    "df.show()"
   ]
  },
  {
   "cell_type": "code",
   "execution_count": 7,
   "id": "2ca66977-3b03-45cf-b96b-94456de25571",
   "metadata": {},
   "outputs": [
    {
     "name": "stdout",
     "output_type": "stream",
     "text": [
      "root\n",
      " |-- hvfhs_license_num: string (nullable = true)\n",
      " |-- dispatching_base_num: string (nullable = true)\n",
      " |-- pickup_datetime: timestamp (nullable = true)\n",
      " |-- dropoff_datetime: timestamp (nullable = true)\n",
      " |-- PULocationID: integer (nullable = true)\n",
      " |-- DOLocationID: integer (nullable = true)\n",
      " |-- SR_Flag: string (nullable = true)\n",
      "\n"
     ]
    }
   ],
   "source": [
    "df.printSchema()"
   ]
  },
  {
   "cell_type": "code",
   "execution_count": 19,
   "id": "3ee315c1-a3c0-4ad5-aa90-f46442cf525f",
   "metadata": {
    "collapsed": true,
    "jupyter": {
     "outputs_hidden": true
    },
    "tags": []
   },
   "outputs": [
    {
     "data": {
      "text/plain": [
       "[Row(hvfhs_license_num='HV0005', dispatching_base_num='B02510', pickup_datetime=datetime.datetime(2021, 1, 4, 8, 24, 29), dropoff_datetime=datetime.datetime(2021, 1, 4, 8, 51, 40), PULocationID=67, DOLocationID=249, SR_Flag=None),\n",
       " Row(hvfhs_license_num='HV0005', dispatching_base_num='B02510', pickup_datetime=datetime.datetime(2021, 1, 1, 18, 40, 45), dropoff_datetime=datetime.datetime(2021, 1, 1, 18, 46, 24), PULocationID=161, DOLocationID=162, SR_Flag=None),\n",
       " Row(hvfhs_license_num='HV0003', dispatching_base_num='B02884', pickup_datetime=datetime.datetime(2021, 1, 1, 2, 19, 41), dropoff_datetime=datetime.datetime(2021, 1, 1, 2, 35, 19), PULocationID=18, DOLocationID=167, SR_Flag=None),\n",
       " Row(hvfhs_license_num='HV0003', dispatching_base_num='B02871', pickup_datetime=datetime.datetime(2021, 1, 2, 12, 44, 13), dropoff_datetime=datetime.datetime(2021, 1, 2, 12, 50, 2), PULocationID=216, DOLocationID=216, SR_Flag=None),\n",
       " Row(hvfhs_license_num='HV0003', dispatching_base_num='B02869', pickup_datetime=datetime.datetime(2021, 1, 1, 9, 21, 19), dropoff_datetime=datetime.datetime(2021, 1, 1, 9, 36, 24), PULocationID=90, DOLocationID=66, SR_Flag=None),\n",
       " Row(hvfhs_license_num='HV0003', dispatching_base_num='B02866', pickup_datetime=datetime.datetime(2021, 1, 3, 15, 26, 26), dropoff_datetime=datetime.datetime(2021, 1, 3, 15, 48, 35), PULocationID=89, DOLocationID=225, SR_Flag=None),\n",
       " Row(hvfhs_license_num='HV0003', dispatching_base_num='B02764', pickup_datetime=datetime.datetime(2021, 1, 5, 10, 35, 42), dropoff_datetime=datetime.datetime(2021, 1, 5, 10, 52, 52), PULocationID=39, DOLocationID=210, SR_Flag=None),\n",
       " Row(hvfhs_license_num='HV0003', dispatching_base_num='B02764', pickup_datetime=datetime.datetime(2021, 1, 3, 16, 11), dropoff_datetime=datetime.datetime(2021, 1, 3, 16, 16, 9), PULocationID=162, DOLocationID=237, SR_Flag=None),\n",
       " Row(hvfhs_license_num='HV0003', dispatching_base_num='B02872', pickup_datetime=datetime.datetime(2021, 1, 1, 6, 2, 40), dropoff_datetime=datetime.datetime(2021, 1, 1, 6, 11, 43), PULocationID=260, DOLocationID=129, SR_Flag=None),\n",
       " Row(hvfhs_license_num='HV0005', dispatching_base_num='B02510', pickup_datetime=datetime.datetime(2021, 1, 1, 23, 16, 46), dropoff_datetime=datetime.datetime(2021, 1, 1, 23, 27, 41), PULocationID=151, DOLocationID=74, SR_Flag=None)]"
      ]
     },
     "execution_count": 19,
     "metadata": {},
     "output_type": "execute_result"
    }
   ],
   "source": [
    "df.head(10)"
   ]
  },
  {
   "cell_type": "code",
   "execution_count": 27,
   "id": "d5ee79c7-4519-4dee-9b92-070e5ed1584d",
   "metadata": {},
   "outputs": [
    {
     "name": "stdout",
     "output_type": "stream",
     "text": [
      "3.2.1\n"
     ]
    }
   ],
   "source": [
    "print(pyspark.__version__)"
   ]
  },
  {
   "cell_type": "code",
   "execution_count": 22,
   "id": "b6a72684-50b8-4f44-b495-4e438b507e81",
   "metadata": {},
   "outputs": [
    {
     "name": "stdout",
     "output_type": "stream",
     "text": [
      "+-------------------+-------------------+------------+------------+\n",
      "|    pickup_datetime|   dropoff_datetime|PULocationID|DOLocationID|\n",
      "+-------------------+-------------------+------------+------------+\n",
      "|2021-01-01 02:19:41|2021-01-01 02:35:19|          18|         167|\n",
      "|2021-01-02 12:44:13|2021-01-02 12:50:02|         216|         216|\n",
      "|2021-01-01 09:21:19|2021-01-01 09:36:24|          90|          66|\n",
      "|2021-01-03 15:26:26|2021-01-03 15:48:35|          89|         225|\n",
      "|2021-01-05 10:35:42|2021-01-05 10:52:52|          39|         210|\n",
      "|2021-01-03 16:11:00|2021-01-03 16:16:09|         162|         237|\n",
      "|2021-01-01 06:02:40|2021-01-01 06:11:43|         260|         129|\n",
      "|2021-01-01 16:09:29|2021-01-01 16:22:04|         243|          41|\n",
      "|2021-01-01 05:02:43|2021-01-01 05:08:19|         119|          42|\n",
      "|2021-01-03 18:13:11|2021-01-03 18:23:40|          79|         140|\n",
      "|2021-01-04 16:38:50|2021-01-04 17:05:48|          92|         185|\n",
      "|2021-01-01 15:43:50|2021-01-01 16:42:35|          91|         265|\n",
      "|2021-01-03 15:31:42|2021-01-03 15:38:23|         136|         241|\n",
      "|2021-01-05 08:23:32|2021-01-05 08:49:14|          89|         148|\n",
      "|2021-01-01 10:12:43|2021-01-01 10:22:00|         229|         234|\n",
      "|2021-01-01 15:13:52|2021-01-01 15:16:17|         142|         230|\n",
      "|2021-01-01 06:18:15|2021-01-01 06:24:55|         205|         205|\n",
      "|2021-01-04 14:57:43|2021-01-04 15:05:18|         209|         158|\n",
      "|2021-01-01 10:16:06|2021-01-01 10:20:58|         256|         232|\n",
      "|2021-01-04 23:18:19|2021-01-04 23:28:52|         163|          43|\n",
      "+-------------------+-------------------+------------+------------+\n",
      "only showing top 20 rows\n",
      "\n"
     ]
    }
   ],
   "source": [
    "(\n",
    "df\n",
    "    .select('pickup_datetime', 'dropoff_datetime', 'PULocationID', 'DOLocationID')\n",
    "    .filter(df.hvfhs_license_num == \"HV0003\")\n",
    "    .show()\n",
    ")"
   ]
  },
  {
   "cell_type": "markdown",
   "id": "fc90aea6-ebb0-4851-85a1-87f5c7335fea",
   "metadata": {},
   "source": [
    "# Homework "
   ]
  },
  {
   "cell_type": "code",
   "execution_count": 28,
   "id": "2d7471ff-bcf0-4c04-88c5-49597e41967e",
   "metadata": {},
   "outputs": [
    {
     "name": "stdout",
     "output_type": "stream",
     "text": [
      "--2022-03-01 20:11:43--  https://nyc-tlc.s3.amazonaws.com/trip+data/fhvhv_tripdata_2021-02.csv\n",
      "Распознаётся nyc-tlc.s3.amazonaws.com (nyc-tlc.s3.amazonaws.com)… 52.217.107.92\n",
      "Подключение к nyc-tlc.s3.amazonaws.com (nyc-tlc.s3.amazonaws.com)|52.217.107.92|:443... соединение установлено.\n",
      "HTTP-запрос отправлен. Ожидание ответа… 200 OK\n",
      "Длина: 733822658 (700M) [text/csv]\n",
      "Сохранение в: «fhvhv_tripdata_2021-02.csv»\n",
      "\n",
      "fhvhv_tripdata_2021 100%[===================>] 699,83M  30,0MB/s    за 2m 19s  \n",
      "\n",
      "2022-03-01 20:14:02 (5,05 MB/s) - «fhvhv_tripdata_2021-02.csv» сохранён [733822658/733822658]\n",
      "\n"
     ]
    }
   ],
   "source": [
    "!wget https://nyc-tlc.s3.amazonaws.com/trip+data/fhvhv_tripdata_2021-02.csv"
   ]
  },
  {
   "cell_type": "code",
   "execution_count": 31,
   "id": "d276999f-b596-4427-9861-8d7d7c686413",
   "metadata": {},
   "outputs": [],
   "source": [
    "schema = types.StructType(\n",
    "[\n",
    "types.StructField('hvfhs_license_num', types.StringType(),True),\n",
    "types.StructField('dispatching_base_num', types.StringType(),True),\n",
    "types.StructField('pickup_datetime', types.TimestampType(),True),\n",
    "types.StructField('dropoff_datetime', types.TimestampType(),True),\n",
    "types.StructField('PULocationID', types.IntegerType(),True),\n",
    "types.StructField('DOLocationID', types.IntegerType(),True),\n",
    "types.StructField('SR_Flag', types.StringType(),True)\n",
    "]\n",
    ")"
   ]
  },
  {
   "cell_type": "code",
   "execution_count": 32,
   "id": "5ead5697-3642-4b23-9439-095a097bc7d2",
   "metadata": {},
   "outputs": [],
   "source": [
    "df = \\\n",
    "(\n",
    "spark.read\n",
    "    .option('header', 'true')\n",
    "    .schema(schema)\n",
    "    .csv('fhvhv_tripdata_2021-02.csv')\n",
    ")"
   ]
  },
  {
   "cell_type": "code",
   "execution_count": 39,
   "id": "24e385cd-58b5-4f92-9242-1d2cc295d454",
   "metadata": {},
   "outputs": [
    {
     "name": "stderr",
     "output_type": "stream",
     "text": [
      "22/03/01 20:41:39 WARN MemoryManager: Total allocation exceeds 95,00% (1 020 054 720 bytes) of heap memory\n",
      "Scaling row group sizes to 95,00% for 8 writers\n",
      "22/03/01 20:41:40 WARN MemoryManager: Total allocation exceeds 95,00% (1 020 054 720 bytes) of heap memory\n",
      "Scaling row group sizes to 95,00% for 8 writers\n",
      "22/03/01 20:41:42 WARN MemoryManager: Total allocation exceeds 95,00% (1 020 054 720 bytes) of heap memory\n",
      "Scaling row group sizes to 95,00% for 8 writers\n",
      "                                                                                \r"
     ]
    }
   ],
   "source": [
    "df.repartition(24).write.parquet('fhvhv/2021/02/', mode='overwrite')"
   ]
  },
  {
   "cell_type": "code",
   "execution_count": 114,
   "id": "d22e9afc-6dcc-4486-9d1a-69e06c4d0f75",
   "metadata": {},
   "outputs": [],
   "source": [
    "fhv_tripdata = \\\n",
    "(\n",
    "spark\n",
    "    .read\n",
    "    .parquet('fhvhv/2021/02/')\n",
    ")"
   ]
  },
  {
   "cell_type": "code",
   "execution_count": 75,
   "id": "e56f047a-fdb3-4862-87f9-b4b882b31c28",
   "metadata": {},
   "outputs": [
    {
     "name": "stderr",
     "output_type": "stream",
     "text": [
      "                                                                                \r"
     ]
    },
    {
     "data": {
      "text/plain": [
       "367170"
      ]
     },
     "execution_count": 75,
     "metadata": {},
     "output_type": "execute_result"
    }
   ],
   "source": [
    "(\n",
    "df\n",
    "    .select('pickup_datetime')\n",
    "    .withColumn('pickup_datetime', df.pickup_datetime.cast('Date'))\n",
    "    .filter('pickup_datetime == \"2021-02-15\"')\n",
    "    .count()\n",
    ")"
   ]
  },
  {
   "cell_type": "code",
   "execution_count": 90,
   "id": "c3f9e905-8c8f-4f67-a0f7-36c4f9588602",
   "metadata": {},
   "outputs": [
    {
     "name": "stderr",
     "output_type": "stream",
     "text": [
      "/usr/local/Cellar/apache-spark/3.2.1/libexec/python/pyspark/sql/dataframe.py:138: FutureWarning: Deprecated in 2.0, use createOrReplaceTempView instead.\n",
      "  warnings.warn(\n"
     ]
    }
   ],
   "source": [
    "(\n",
    "df.registerTempTable('taxi_data')\n",
    ")"
   ]
  },
  {
   "cell_type": "code",
   "execution_count": 91,
   "id": "7217b8c5-db27-4f4d-b09d-de7b9efaa109",
   "metadata": {},
   "outputs": [
    {
     "name": "stdout",
     "output_type": "stream",
     "text": [
      "+-----------------+--------------------+-------------------+-------------------+------------+------------+-------+\n",
      "|hvfhs_license_num|dispatching_base_num|    pickup_datetime|   dropoff_datetime|PULocationID|DOLocationID|SR_Flag|\n",
      "+-----------------+--------------------+-------------------+-------------------+------------+------------+-------+\n",
      "|           HV0003|              B02889|2021-02-03 19:14:15|2021-02-03 19:31:36|         198|          63|   null|\n",
      "|           HV0003|              B02878|2021-02-03 20:03:07|2021-02-03 20:15:09|          47|           3|   null|\n",
      "|           HV0003|              B02836|2021-02-04 14:41:23|2021-02-04 14:47:41|          65|          97|   null|\n",
      "|           HV0003|              B02765|2021-02-04 20:07:35|2021-02-04 20:25:03|         255|         113|   null|\n",
      "|           HV0003|              B02877|2021-02-02 19:19:25|2021-02-02 19:32:24|         142|          90|   null|\n",
      "|           HV0005|              B02510|2021-02-02 18:32:18|2021-02-02 18:51:48|         196|         198|   null|\n",
      "|           HV0003|              B02867|2021-02-05 09:31:08|2021-02-05 10:02:18|         121|         170|   null|\n",
      "|           HV0003|              B02887|2021-02-03 10:40:21|2021-02-03 10:47:41|          39|          39|   null|\n",
      "|           HV0003|              B02882|2021-02-04 16:39:42|2021-02-04 16:49:37|          91|         155|   null|\n",
      "|           HV0003|              B02765|2021-02-04 10:45:18|2021-02-04 11:02:27|         246|         100|   null|\n",
      "|           HV0003|              B02682|2021-02-03 07:57:03|2021-02-03 08:03:29|         168|         159|   null|\n",
      "|           HV0003|              B02682|2021-02-03 09:47:59|2021-02-03 10:28:58|         251|         234|   null|\n",
      "|           HV0005|              B02510|2021-02-01 07:36:29|2021-02-01 07:45:57|          42|         159|   null|\n",
      "|           HV0003|              B02882|2021-02-03 15:39:30|2021-02-03 15:54:37|         108|          22|   null|\n",
      "|           HV0003|              B02864|2021-02-02 12:29:45|2021-02-02 12:34:20|         136|         153|   null|\n",
      "|           HV0005|              B02510|2021-02-02 23:57:52|2021-02-03 00:13:31|          69|          41|   null|\n",
      "|           HV0003|              B02871|2021-02-04 07:24:47|2021-02-04 07:38:18|         172|           6|   null|\n",
      "|           HV0003|              B02867|2021-02-02 16:55:42|2021-02-02 17:06:03|         126|         168|   null|\n",
      "|           HV0003|              B02764|2021-02-02 15:48:14|2021-02-02 15:55:43|         226|          36|   null|\n",
      "|           HV0003|              B02875|2021-02-03 17:14:10|2021-02-03 17:36:24|          51|          18|   null|\n",
      "+-----------------+--------------------+-------------------+-------------------+------------+------------+-------+\n",
      "only showing top 20 rows\n",
      "\n"
     ]
    }
   ],
   "source": [
    "df.show()"
   ]
  },
  {
   "cell_type": "code",
   "execution_count": 104,
   "id": "a299eb72-2639-4ccd-8b0b-98f9d9ea3904",
   "metadata": {},
   "outputs": [
    {
     "data": {
      "text/plain": [
       "[Row(dispatching_base_num='B02510', num_records=3233664)]"
      ]
     },
     "execution_count": 104,
     "metadata": {},
     "output_type": "execute_result"
    }
   ],
   "source": [
    "spark.sql(\"\"\"\n",
    "select \n",
    "dispatching_base_num, count(1) as num_records\n",
    "from taxi_data\n",
    "group by dispatching_base_num\n",
    "order by num_records desc \n",
    "limit 1\n",
    "\"\"\").collect()"
   ]
  },
  {
   "cell_type": "code",
   "execution_count": 120,
   "id": "f75fb032-07ce-400f-b26e-779205b47a53",
   "metadata": {},
   "outputs": [],
   "source": [
    "schema_zones = types.StructType(\n",
    "[\n",
    "types.StructField('LocationID', types.IntegerType(),True),\n",
    "types.StructField('Borough', types.StringType(),True),\n",
    "types.StructField('Zone', types.StringType(),True),\n",
    "types.StructField('service_zone', types.StringType(),True),\n",
    "]\n",
    ")"
   ]
  },
  {
   "cell_type": "code",
   "execution_count": 121,
   "id": "b6f5ab9d-6938-4207-8058-7309fcf65b3b",
   "metadata": {},
   "outputs": [],
   "source": [
    "zones = (\n",
    "spark\n",
    "    .read\n",
    "    .option('header', 'true')\n",
    "    .schema(schema)\n",
    "    .csv('taxi+_zone_lookup.csv')\n",
    ")"
   ]
  },
  {
   "cell_type": "code",
   "execution_count": 116,
   "id": "025b8b76-f44d-4f1e-b528-c95e8e0410ba",
   "metadata": {},
   "outputs": [
    {
     "name": "stdout",
     "output_type": "stream",
     "text": [
      "+-----------------+--------------------+-------------------+-------------------+------------+------------+-------+\n",
      "|hvfhs_license_num|dispatching_base_num|    pickup_datetime|   dropoff_datetime|PULocationID|DOLocationID|SR_Flag|\n",
      "+-----------------+--------------------+-------------------+-------------------+------------+------------+-------+\n",
      "|           HV0003|              B02889|2021-02-03 19:14:15|2021-02-03 19:31:36|         198|          63|   null|\n",
      "|           HV0003|              B02878|2021-02-03 20:03:07|2021-02-03 20:15:09|          47|           3|   null|\n",
      "|           HV0003|              B02836|2021-02-04 14:41:23|2021-02-04 14:47:41|          65|          97|   null|\n",
      "|           HV0003|              B02765|2021-02-04 20:07:35|2021-02-04 20:25:03|         255|         113|   null|\n",
      "|           HV0003|              B02877|2021-02-02 19:19:25|2021-02-02 19:32:24|         142|          90|   null|\n",
      "|           HV0005|              B02510|2021-02-02 18:32:18|2021-02-02 18:51:48|         196|         198|   null|\n",
      "|           HV0003|              B02867|2021-02-05 09:31:08|2021-02-05 10:02:18|         121|         170|   null|\n",
      "|           HV0003|              B02887|2021-02-03 10:40:21|2021-02-03 10:47:41|          39|          39|   null|\n",
      "|           HV0003|              B02882|2021-02-04 16:39:42|2021-02-04 16:49:37|          91|         155|   null|\n",
      "|           HV0003|              B02765|2021-02-04 10:45:18|2021-02-04 11:02:27|         246|         100|   null|\n",
      "|           HV0003|              B02682|2021-02-03 07:57:03|2021-02-03 08:03:29|         168|         159|   null|\n",
      "|           HV0003|              B02682|2021-02-03 09:47:59|2021-02-03 10:28:58|         251|         234|   null|\n",
      "|           HV0005|              B02510|2021-02-01 07:36:29|2021-02-01 07:45:57|          42|         159|   null|\n",
      "|           HV0003|              B02882|2021-02-03 15:39:30|2021-02-03 15:54:37|         108|          22|   null|\n",
      "|           HV0003|              B02864|2021-02-02 12:29:45|2021-02-02 12:34:20|         136|         153|   null|\n",
      "|           HV0005|              B02510|2021-02-02 23:57:52|2021-02-03 00:13:31|          69|          41|   null|\n",
      "|           HV0003|              B02871|2021-02-04 07:24:47|2021-02-04 07:38:18|         172|           6|   null|\n",
      "|           HV0003|              B02867|2021-02-02 16:55:42|2021-02-02 17:06:03|         126|         168|   null|\n",
      "|           HV0003|              B02764|2021-02-02 15:48:14|2021-02-02 15:55:43|         226|          36|   null|\n",
      "|           HV0003|              B02875|2021-02-03 17:14:10|2021-02-03 17:36:24|          51|          18|   null|\n",
      "+-----------------+--------------------+-------------------+-------------------+------------+------------+-------+\n",
      "only showing top 20 rows\n",
      "\n"
     ]
    }
   ],
   "source": [
    "fhv_tripdata.show()"
   ]
  },
  {
   "cell_type": "code",
   "execution_count": 124,
   "id": "e338f589-6099-43dd-8cdb-507f46ccff06",
   "metadata": {},
   "outputs": [
    {
     "data": {
      "text/plain": [
       "[('LocationID', 'int'),\n",
       " ('Borough', 'string'),\n",
       " ('Zone', 'string'),\n",
       " ('service_zone', 'string')]"
      ]
     },
     "execution_count": 124,
     "metadata": {},
     "output_type": "execute_result"
    }
   ],
   "source": [
    "zones.dtypes"
   ]
  },
  {
   "cell_type": "code",
   "execution_count": 122,
   "id": "dd1b261c-7600-4e47-b3a9-afd56935dbef",
   "metadata": {},
   "outputs": [
    {
     "name": "stdout",
     "output_type": "stream",
     "text": [
      "+----------+-------------+--------------------+------------+\n",
      "|LocationID|      Borough|                Zone|service_zone|\n",
      "+----------+-------------+--------------------+------------+\n",
      "|         1|          EWR|      Newark Airport|         EWR|\n",
      "|         2|       Queens|         Jamaica Bay|   Boro Zone|\n",
      "|         3|        Bronx|Allerton/Pelham G...|   Boro Zone|\n",
      "|         4|    Manhattan|       Alphabet City| Yellow Zone|\n",
      "|         5|Staten Island|       Arden Heights|   Boro Zone|\n",
      "|         6|Staten Island|Arrochar/Fort Wad...|   Boro Zone|\n",
      "|         7|       Queens|             Astoria|   Boro Zone|\n",
      "|         8|       Queens|        Astoria Park|   Boro Zone|\n",
      "|         9|       Queens|          Auburndale|   Boro Zone|\n",
      "|        10|       Queens|        Baisley Park|   Boro Zone|\n",
      "|        11|     Brooklyn|          Bath Beach|   Boro Zone|\n",
      "|        12|    Manhattan|        Battery Park| Yellow Zone|\n",
      "|        13|    Manhattan|   Battery Park City| Yellow Zone|\n",
      "|        14|     Brooklyn|           Bay Ridge|   Boro Zone|\n",
      "|        15|       Queens|Bay Terrace/Fort ...|   Boro Zone|\n",
      "|        16|       Queens|             Bayside|   Boro Zone|\n",
      "|        17|     Brooklyn|             Bedford|   Boro Zone|\n",
      "|        18|        Bronx|        Bedford Park|   Boro Zone|\n",
      "|        19|       Queens|           Bellerose|   Boro Zone|\n",
      "|        20|        Bronx|             Belmont|   Boro Zone|\n",
      "+----------+-------------+--------------------+------------+\n",
      "only showing top 20 rows\n",
      "\n"
     ]
    }
   ],
   "source": [
    "zones.show()"
   ]
  },
  {
   "cell_type": "code",
   "execution_count": 128,
   "id": "fe3dadfd-1bfb-465f-8243-3fea58893112",
   "metadata": {},
   "outputs": [],
   "source": [
    "(\n",
    "zones.registerTempTable('zones')\n",
    ")"
   ]
  },
  {
   "cell_type": "code",
   "execution_count": 130,
   "id": "c51b1ce6-0198-406b-99e2-863bd69698d0",
   "metadata": {},
   "outputs": [
    {
     "name": "stderr",
     "output_type": "stream",
     "text": [
      "[Stage 79:>                                                         (0 + 8) / 8]\r"
     ]
    },
    {
     "name": "stdout",
     "output_type": "stream",
     "text": [
      "+----------+--------+-------------+------------+\n",
      "|LocationID| Borough|         Zone|service_zone|\n",
      "+----------+--------+-------------+------------+\n",
      "|        76|Brooklyn|East New York|   Boro Zone|\n",
      "+----------+--------+-------------+------------+\n",
      "\n"
     ]
    },
    {
     "name": "stderr",
     "output_type": "stream",
     "text": [
      "                                                                                \r"
     ]
    }
   ],
   "source": [
    "spark.sql(\"\"\"\n",
    "with popular_pair as (\n",
    "    select \n",
    "    PULocationID, \n",
    "    DOLocationID, \n",
    "    count(1) as num_records\n",
    "    from taxi_data\n",
    "    group by PULocationID, DOLocationID\n",
    "    order by num_records desc \n",
    "    limit 1\n",
    ")\n",
    "select \n",
    "*\n",
    "from zones \n",
    "where LocationID = (select PULocationID from popular_pair)\n",
    "\"\"\").show()"
   ]
  }
 ],
 "metadata": {
  "kernelspec": {
   "display_name": "Python 3 (ipykernel)",
   "language": "python",
   "name": "python3"
  },
  "language_info": {
   "codemirror_mode": {
    "name": "ipython",
    "version": 3
   },
   "file_extension": ".py",
   "mimetype": "text/x-python",
   "name": "python",
   "nbconvert_exporter": "python",
   "pygments_lexer": "ipython3",
   "version": "3.9.10"
  }
 },
 "nbformat": 4,
 "nbformat_minor": 5
}
